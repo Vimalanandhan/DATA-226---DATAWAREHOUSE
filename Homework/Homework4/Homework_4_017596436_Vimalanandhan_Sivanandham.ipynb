{
  "nbformat": 4,
  "nbformat_minor": 0,
  "metadata": {
    "colab": {
      "provenance": []
    },
    "kernelspec": {
      "name": "python3",
      "display_name": "Python 3"
    },
    "language_info": {
      "name": "python"
    }
  },
  "cells": [
    {
      "cell_type": "markdown",
      "source": [
        "**1. Pick up a stock symbol and get your own API key from Alpha Vantage\n",
        "Setting Up Alpha Vantage API and Secure Credentials**"
      ],
      "metadata": {
        "id": "ASVfd6sBiAll"
      }
    },
    {
      "cell_type": "code",
      "source": [
        "from google.colab import userdata\n",
        "vantage_api_key = userdata.get('ALPHA_VANTAGE_API_KEY')\n",
        "snowflake_user = userdata.get('SNOWFLAKE_USER')\n",
        "snowflake_password = userdata.get('SNOWFLAKE_PASSWORD')\n",
        "snowflake_account = userdata.get('SNOWFLAKE_ACCOUNT')\n",
        "\n",
        "symbol = \"AAPL\"\n",
        "url = f\"https://www.alphavantage.co/query?function=TIME_SERIES_DAILY&symbol={symbol}&apikey={vantage_api_key}\""
      ],
      "metadata": {
        "id": "Tde6XvCqvo3X"
      },
      "execution_count": 111,
      "outputs": []
    },
    {
      "cell_type": "markdown",
      "source": [
        "**2. Secure your Snowflake credentials and Alpha Vantage API key (don't expose them in the code)**"
      ],
      "metadata": {
        "id": "3OFz4WXJGu78"
      }
    },
    {
      "cell_type": "code",
      "source": [
        "import os\n",
        "from getpass import getpass\n",
        "import requests\n",
        "import pandas as pd\n",
        "\n",
        "os.environ[\"ALPHA_VANTAGE_API_KEY\"] = getpass(\"Enter your Alpha Vantage API Key: \")\n",
        "\n",
        "api_key = os.getenv(\"ALPHA_VANTAGE_API_KEY\")\n",
        "symbol = \"AAPL\"\n",
        "\n",
        "url = f\"https://www.alphavantage.co/query?function=TIME_SERIES_DAILY&symbol={symbol}&apikey={api_key}&outputsize=compact\"\n",
        "\n",
        "response = requests.get(url)\n",
        "data = response.json()\n",
        "\n",
        "time_series = data.get(\"Time Series (Daily)\", {})"
      ],
      "metadata": {
        "colab": {
          "base_uri": "https://localhost:8080/"
        },
        "id": "8BovC9IO3xYD",
        "outputId": "58ff7c5a-cef8-4542-9290-2be0303701f8"
      },
      "execution_count": 112,
      "outputs": [
        {
          "name": "stdout",
          "output_type": "stream",
          "text": [
            "Enter your Alpha Vantage API Key: ··········\n"
          ]
        }
      ]
    },
    {
      "cell_type": "code",
      "source": [
        "!pip install snowflake-connector-python\n",
        "import snowflake.connector\n",
        "\n",
        "os.environ[\"SNOWFLAKE_USER\"] = getpass(\"Enter your Snowflake Username: \")\n",
        "os.environ[\"SNOWFLAKE_PASSWORD\"] = getpass(\"Enter your Snowflake Password: \")\n",
        "os.environ[\"SNOWFLAKE_ACCOUNT\"] = getpass(\"Enter your Snowflake Account: \")\n",
        "\n",
        "conn = snowflake.connector.connect(\n",
        "    user=os.getenv(\"SNOWFLAKE_USER\"),\n",
        "    password=os.getenv(\"SNOWFLAKE_PASSWORD\"),\n",
        "    account=os.getenv(\"SNOWFLAKE_ACCOUNT\")\n",
        ")\n",
        "\n",
        "cur = conn.cursor()"
      ],
      "metadata": {
        "colab": {
          "base_uri": "https://localhost:8080/"
        },
        "id": "x3IEGg7zraEV",
        "outputId": "54366308-a709-4250-e5b6-fcc8492043bc"
      },
      "execution_count": 113,
      "outputs": [
        {
          "name": "stdout",
          "output_type": "stream",
          "text": [
            "Requirement already satisfied: snowflake-connector-python in /usr/local/lib/python3.11/dist-packages (3.13.2)\n",
            "Requirement already satisfied: asn1crypto<2.0.0,>0.24.0 in /usr/local/lib/python3.11/dist-packages (from snowflake-connector-python) (1.5.1)\n",
            "Requirement already satisfied: cffi<2.0.0,>=1.9 in /usr/local/lib/python3.11/dist-packages (from snowflake-connector-python) (1.17.1)\n",
            "Requirement already satisfied: cryptography>=3.1.0 in /usr/local/lib/python3.11/dist-packages (from snowflake-connector-python) (43.0.3)\n",
            "Requirement already satisfied: pyOpenSSL<25.0.0,>=22.0.0 in /usr/local/lib/python3.11/dist-packages (from snowflake-connector-python) (24.2.1)\n",
            "Requirement already satisfied: pyjwt<3.0.0 in /usr/local/lib/python3.11/dist-packages (from snowflake-connector-python) (2.10.1)\n",
            "Requirement already satisfied: pytz in /usr/local/lib/python3.11/dist-packages (from snowflake-connector-python) (2025.1)\n",
            "Requirement already satisfied: requests<3.0.0 in /usr/local/lib/python3.11/dist-packages (from snowflake-connector-python) (2.32.3)\n",
            "Requirement already satisfied: packaging in /usr/local/lib/python3.11/dist-packages (from snowflake-connector-python) (24.2)\n",
            "Requirement already satisfied: charset_normalizer<4,>=2 in /usr/local/lib/python3.11/dist-packages (from snowflake-connector-python) (3.4.1)\n",
            "Requirement already satisfied: idna<4,>=2.5 in /usr/local/lib/python3.11/dist-packages (from snowflake-connector-python) (3.10)\n",
            "Requirement already satisfied: certifi>=2017.4.17 in /usr/local/lib/python3.11/dist-packages (from snowflake-connector-python) (2025.1.31)\n",
            "Requirement already satisfied: typing_extensions<5,>=4.3 in /usr/local/lib/python3.11/dist-packages (from snowflake-connector-python) (4.12.2)\n",
            "Requirement already satisfied: filelock<4,>=3.5 in /usr/local/lib/python3.11/dist-packages (from snowflake-connector-python) (3.17.0)\n",
            "Requirement already satisfied: sortedcontainers>=2.4.0 in /usr/local/lib/python3.11/dist-packages (from snowflake-connector-python) (2.4.0)\n",
            "Requirement already satisfied: platformdirs<5.0.0,>=2.6.0 in /usr/local/lib/python3.11/dist-packages (from snowflake-connector-python) (4.3.6)\n",
            "Requirement already satisfied: tomlkit in /usr/local/lib/python3.11/dist-packages (from snowflake-connector-python) (0.13.2)\n",
            "Requirement already satisfied: pycparser in /usr/local/lib/python3.11/dist-packages (from cffi<2.0.0,>=1.9->snowflake-connector-python) (2.22)\n",
            "Requirement already satisfied: urllib3<3,>=1.21.1 in /usr/local/lib/python3.11/dist-packages (from requests<3.0.0->snowflake-connector-python) (2.3.0)\n",
            "Enter your Snowflake Username: ··········\n",
            "Enter your Snowflake Password: ··········\n",
            "Enter your Snowflake Account: ··········\n"
          ]
        }
      ]
    },
    {
      "cell_type": "markdown",
      "source": [
        "**3. Read the last 90 days of the price info via the API (refer to the code snippetLinks to an external site. & you need to add \"date”)\n",
        "With regard to adding \"date\"**\n",
        "**Fetch Stock Data (Last 90 Days)**"
      ],
      "metadata": {
        "id": "iHto4rqosItQ"
      }
    },
    {
      "cell_type": "code",
      "source": [
        "df = pd.DataFrame.from_dict(time_series, orient=\"index\")\n",
        "df = df.reset_index().rename(columns={\n",
        "    \"index\": \"date\",\n",
        "    \"1. open\": \"open\",\n",
        "    \"2. high\": \"high\",\n",
        "    \"3. low\": \"low\",\n",
        "    \"4. close\": \"close\",\n",
        "    \"5. volume\": \"volume\"\n",
        "})\n",
        "\n",
        "df[\"date\"] = pd.to_datetime(df[\"date\"])\n",
        "df[[\"open\", \"high\", \"low\", \"close\", \"volume\"]] = df[[\"open\", \"high\", \"low\", \"close\", \"volume\"]].astype(float)\n",
        "\n",
        "df = df.sort_values(by=\"date\", ascending=False).head(90)\n",
        "print(df)"
      ],
      "metadata": {
        "colab": {
          "base_uri": "https://localhost:8080/"
        },
        "id": "SsrB31p_315Z",
        "outputId": "8e932728-a51b-46aa-cca6-8de137eab71d"
      },
      "execution_count": 114,
      "outputs": [
        {
          "output_type": "stream",
          "name": "stdout",
          "text": [
            "         date     open    high     low   close      volume\n",
            "0  2025-02-26  244.330  244.98  239.13  240.36  44433564.0\n",
            "1  2025-02-25  248.000  250.00  244.91  247.04  48013272.0\n",
            "2  2025-02-24  244.925  248.86  244.42  247.10  51326396.0\n",
            "3  2025-02-21  245.950  248.69  245.22  245.55  53197431.0\n",
            "4  2025-02-20  244.940  246.78  244.29  245.83  32316907.0\n",
            "..        ...      ...     ...     ...     ...         ...\n",
            "85 2024-10-22  233.885  236.22  232.60  235.86  38846578.0\n",
            "86 2024-10-21  234.450  236.85  234.45  236.48  36254470.0\n",
            "87 2024-10-18  236.180  236.18  234.01  235.00  46431472.0\n",
            "88 2024-10-17  233.430  233.85  230.52  232.15  32993810.0\n",
            "89 2024-10-16  231.600  232.12  229.84  231.78  34082240.0\n",
            "\n",
            "[90 rows x 6 columns]\n"
          ]
        }
      ]
    },
    {
      "cell_type": "markdown",
      "source": [
        "***\n",
        "4. Create a table under “raw” schema if it doesn’t exist to capture the info from the API\n",
        "symbol, date, open, close, high, low, volume: symbol and date should be primary keys\n",
        "5. Delete all records from the table\n",
        "6. Populate the table with the records from step 2 using INSERT SQL (refer to the relevant code snippetLinks to an external site. as a starting point)\n",
        "7. Steps 4 and 6 need to be done together\n",
        "Use try/except along with SQL transaction. (use the code hereLinks to an external site. as reference)\n",
        "***"
      ],
      "metadata": {
        "id": "u_fjMUvZ1Svd"
      }
    },
    {
      "cell_type": "code",
      "source": [
        "#7: Steps 4 and 6 need to be done together Use try/except along with SQL transaction. (use the code hereLinks to an external site. as reference)\n",
        "import traceback\n",
        "\n",
        "def create_and_insert_data(df, symbol):\n",
        "    conn = snowflake_connection()\n",
        "    cur = conn.cursor()\n",
        "\n",
        "    try:\n",
        "        cur.execute(\"USE DATABASE STOCK_DATA\")\n",
        "        cur.execute(\"USE SCHEMA RAW\")\n",
        "\n",
        "        # Step 4: Create table if not exists\n",
        "        cur.execute('''\n",
        "            CREATE TABLE IF NOT EXISTS raw.stock_data (\n",
        "                symbol STRING NOT NULL,\n",
        "                date DATE NOT NULL,\n",
        "                open FLOAT,\n",
        "                close FLOAT,\n",
        "                high FLOAT,\n",
        "                low FLOAT,\n",
        "                volume BIGINT,\n",
        "                PRIMARY KEY (symbol, date)\n",
        "            )''')\n",
        "        conn.commit()\n",
        "\n",
        "        if df.empty:\n",
        "            print(\"No data to insert. Exiting function.\")\n",
        "            return\n",
        "\n",
        "        cur.execute(\"BEGIN\")\n",
        "\n",
        "        #5: Delete all records from the table\n",
        "        delete_query = \"DELETE FROM raw.stock_data WHERE symbol = ?\"\n",
        "        cur.execute(delete_query, [symbol])\n",
        "\n",
        "        #6: Populate the table with the records from step 2 using INSERT SQL (refer to the relevant code snippetLinks to an external site. as a starting point)\n",
        "        insert_query = \"\"\"\n",
        "        INSERT INTO raw.stock_data (symbol, date, open, high, low, close, volume)\n",
        "        VALUES (?, ?, ?, ?, ?, ?, ?)\n",
        "        \"\"\"\n",
        "\n",
        "        for _, row in df.iterrows():\n",
        "            cur.execute(insert_query, [\n",
        "                symbol,\n",
        "                row[\"date\"].strftime('%Y-%m-%d'),\n",
        "                row[\"open\"],\n",
        "                row[\"high\"],\n",
        "                row[\"low\"],\n",
        "                row[\"close\"],\n",
        "                row[\"volume\"]\n",
        "            ])\n",
        "\n",
        "        cur.execute(\"COMMIT\")\n",
        "        print(\"Data inserted successfully!\")\n",
        "\n",
        "    except Exception as e:\n",
        "        cur.execute(\"ROLLBACK\")\n",
        "        print(\"Error occurred during transaction:\")\n",
        "        traceback.print_exc()"
      ],
      "metadata": {
        "id": "t2kDN4d41BXR"
      },
      "execution_count": 118,
      "outputs": []
    },
    {
      "cell_type": "markdown",
      "source": [
        "**8.Demonstrate your work ensures Idempotency by running your pipeline (from extract to load) twice in a row and checking the number of records (the number needs to remain the same)**\n",
        "**Validate Idempotency**"
      ],
      "metadata": {
        "id": "6L44UB0158h1"
      }
    },
    {
      "cell_type": "code",
      "source": [
        "cur.execute(\"USE DATABASE STOCK_DATA\")\n",
        "cur.execute(\"USE SCHEMA RAW\")\n",
        "\n",
        "cur.execute(\"SELECT COUNT(*) FROM STOCK_DATA.RAW.stock_data WHERE symbol = %s\", (symbol,))\n",
        "\n",
        "record_count = cur.fetchone()[0]\n",
        "print(f\"Total records after re-running: {record_count}\")\n"
      ],
      "metadata": {
        "colab": {
          "base_uri": "https://localhost:8080/"
        },
        "id": "BYJvlB4g6BaR",
        "outputId": "1a5211f0-164c-4e54-d908-b65b451add50"
      },
      "execution_count": 116,
      "outputs": [
        {
          "output_type": "stream",
          "name": "stdout",
          "text": [
            "Total records after re-running: 90\n"
          ]
        }
      ]
    },
    {
      "cell_type": "code",
      "source": [
        "print(df)"
      ],
      "metadata": {
        "colab": {
          "base_uri": "https://localhost:8080/"
        },
        "id": "WnoGZx42Mgmz",
        "outputId": "92cfb8c0-ab6c-4909-9749-3942f3878d21"
      },
      "execution_count": 117,
      "outputs": [
        {
          "output_type": "stream",
          "name": "stdout",
          "text": [
            "         date     open    high     low   close      volume\n",
            "0  2025-02-26  244.330  244.98  239.13  240.36  44433564.0\n",
            "1  2025-02-25  248.000  250.00  244.91  247.04  48013272.0\n",
            "2  2025-02-24  244.925  248.86  244.42  247.10  51326396.0\n",
            "3  2025-02-21  245.950  248.69  245.22  245.55  53197431.0\n",
            "4  2025-02-20  244.940  246.78  244.29  245.83  32316907.0\n",
            "..        ...      ...     ...     ...     ...         ...\n",
            "85 2024-10-22  233.885  236.22  232.60  235.86  38846578.0\n",
            "86 2024-10-21  234.450  236.85  234.45  236.48  36254470.0\n",
            "87 2024-10-18  236.180  236.18  234.01  235.00  46431472.0\n",
            "88 2024-10-17  233.430  233.85  230.52  232.15  32993810.0\n",
            "89 2024-10-16  231.600  232.12  229.84  231.78  34082240.0\n",
            "\n",
            "[90 rows x 6 columns]\n"
          ]
        }
      ]
    }
  ]
}